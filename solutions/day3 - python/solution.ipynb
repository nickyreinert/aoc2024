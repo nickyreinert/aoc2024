{
 "cells": [
  {
   "cell_type": "code",
   "execution_count": 2,
   "metadata": {},
   "outputs": [],
   "source": [
    "import re, ast\n",
    "from functools import reduce\n",
    "from operator import mul"
   ]
  },
  {
   "cell_type": "code",
   "execution_count": 3,
   "metadata": {},
   "outputs": [
    {
     "name": "stdout",
     "output_type": "stream",
     "text": [
      "174336360\n"
     ]
    }
   ],
   "source": [
    "with open(\"input.txt\", \"r\") as file: print(sum([reduce(mul, ast.literal_eval(match.replace(\"mul\", \"\"))) for match in re.findall(\"mul\\(\\d{1,3},\\d{1,3}\\)\", file.read())]))"
   ]
  },
  {
   "cell_type": "code",
   "execution_count": null,
   "metadata": {},
   "outputs": [],
   "source": [
    "with open(\"input.txt\", \"r\") as file:\n",
    "    file_contents = file.read()\n",
    "\n",
    "for match in re.findall(\"mul\\(\\d{1,3},\\d{1,3}\\)\", file_contents):\n",
    "    print(f'string: {match} - list: {ast.literal_eval(match.replace(\"mul\", \"\"))} -  product: {reduce(mul, ast.literal_eval(match.replace(\"mul\", \"\")))}')"
   ]
  },
  {
   "cell_type": "code",
   "execution_count": null,
   "metadata": {},
   "outputs": [],
   "source": [
    "# Open the file\n",
    "with open(\"input.txt\", \"r\") as file:\n",
    "    # Read the entire file content\n",
    "    file_contents = file.read()\n",
    "\n",
    "file_contents"
   ]
  },
  {
   "cell_type": "code",
   "execution_count": null,
   "metadata": {},
   "outputs": [],
   "source": [
    "file_contents.split(\"don't()\")"
   ]
  },
  {
   "cell_type": "code",
   "execution_count": null,
   "metadata": {},
   "outputs": [],
   "source": [
    "sum_of_all = 0\n",
    "for _i, donts in enumerate(('do()' + file_contents).split(\"don't()\")):\n",
    "    if len(donts.split(\"do()\")) > 1:\n",
    "        for _j, dos in enumerate(donts.split(\"do()\")[1:]):\n",
    "            for match in re.findall(\"mul\\(\\d{1,3},\\d{1,3}\\)\", dos):\n",
    "                print(f'string: {match} - list: {ast.literal_eval(match.replace(\"mul\", \"\"))} -  product: {reduce(mul, ast.literal_eval(match.replace(\"mul\", \"\")))}')\n",
    "                sum_of_all += reduce(mul, ast.literal_eval(match.replace(\"mul\", \"\")))\n",
    "\n",
    "print(f'sum: {sum_of_all}')"
   ]
  },
  {
   "cell_type": "code",
   "execution_count": 44,
   "metadata": {},
   "outputs": [
    {
     "data": {
      "text/plain": [
       "88802350"
      ]
     },
     "execution_count": 44,
     "metadata": {},
     "output_type": "execute_result"
    }
   ],
   "source": [
    "[donts for _i, donts in enumerate(('do()' + file_contents).split(\"don't()\"))]\n",
    "[[dos for _j, dos in enumerate(donts.split(\"do()\")[1:])] for _i, donts in enumerate(('do()' + file_contents).split(\"don't()\"))]\n",
    "[[dos for _j, dos in enumerate(donts.split(\"do()\")[1:])] for _i, donts in enumerate(('do()' + file_contents).split(\"don't()\")) if len(donts.split(\"do()\")) > 1]\n",
    "[[[match for match in re.findall(\"mul\\(\\d{1,3},\\d{1,3}\\)\", dos)] for _j, dos in enumerate(donts.split(\"do()\")[1:])] for _i, donts in enumerate(('do()' + file_contents).split(\"don't()\")) if len(donts.split(\"do()\")) > 1]\n",
    "[[[reduce(mul, ast.literal_eval(match.replace(\"mul\", \"\"))) for match in re.findall(\"mul\\(\\d{1,3},\\d{1,3}\\)\", dos)] for _j, dos in enumerate(donts.split(\"do()\")[1:])] for _i, donts in enumerate(('do()' + file_contents).split(\"don't()\")) if len(donts.split(\"do()\")) > 1]\n",
    "sum([sum([sum([reduce(mul, ast.literal_eval(match.replace(\"mul\", \"\"))) for match in re.findall(\"mul\\(\\d{1,3},\\d{1,3}\\)\", dos)]) for _j, dos in enumerate(donts.split(\"do()\")[1:])]) for _i, donts in enumerate(('do()' + file_contents).split(\"don't()\")) if len(donts.split(\"do()\")) > 1])\n"
   ]
  }
 ],
 "metadata": {
  "kernelspec": {
   "display_name": "Python 3",
   "language": "python",
   "name": "python3"
  },
  "language_info": {
   "codemirror_mode": {
    "name": "ipython",
    "version": 3
   },
   "file_extension": ".py",
   "mimetype": "text/x-python",
   "name": "python",
   "nbconvert_exporter": "python",
   "pygments_lexer": "ipython3",
   "version": "3.9.6"
  }
 },
 "nbformat": 4,
 "nbformat_minor": 2
}
